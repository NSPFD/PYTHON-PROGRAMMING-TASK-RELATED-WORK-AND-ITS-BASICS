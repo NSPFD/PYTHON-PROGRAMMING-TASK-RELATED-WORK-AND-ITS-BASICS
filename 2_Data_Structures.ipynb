{
  "cells": [
    {
      "cell_type": "markdown",
      "metadata": {
        "id": "view-in-github",
        "colab_type": "text"
      },
      "source": [
        "<a href=\"https://colab.research.google.com/github/NSPFD/PYTHON-PROGRAMMING-TASK-RELATED-WORK-AND-ITS-BASICS/blob/main/2_Data_Structures.ipynb\" target=\"_parent\"><img src=\"https://colab.research.google.com/assets/colab-badge.svg\" alt=\"Open In Colab\"/></a>"
      ]
    },
    {
      "cell_type": "markdown",
      "id": "2df4f9c1",
      "metadata": {
        "id": "2df4f9c1"
      },
      "source": [
        "We completed Intro and Variables now lets learn the better way of organizing and storing data in a computer's memory"
      ]
    },
    {
      "cell_type": "markdown",
      "id": "13bd8542",
      "metadata": {
        "id": "13bd8542"
      },
      "source": [
        "# 3. Data Structures\n",
        "\n",
        "* A data structure is a way of organizing and storing data in a computer's memory to efficiently perform operations and manipulate the data.\n",
        "\n",
        "* It defines how the data is organized, accessed, and manipulated, and provides a set of operations or methods to perform various tasks on the data.\n",
        "\n",
        "* Data structures are fundamental building blocks in programming and play a crucial role in solving computational problems.\n",
        "\n",
        "* They help in optimizing data access, storage, and manipulation, leading to efficient algorithms and better program performance.\n",
        "\n"
      ]
    },
    {
      "cell_type": "code",
      "execution_count": null,
      "id": "8d8dccbd",
      "metadata": {
        "id": "8d8dccbd"
      },
      "outputs": [],
      "source": [
        "import random\n"
      ]
    },
    {
      "cell_type": "markdown",
      "id": "3b14baf5",
      "metadata": {
        "id": "3b14baf5"
      },
      "source": [
        "## Strings\n",
        "\n",
        "String is a sequence of characters enclosed within single quotes (' '), double quotes (\" \"), or triple quotes (''' '''). Strings are used to represent textual data and are one of the built-in data types in Python."
      ]
    },
    {
      "cell_type": "code",
      "execution_count": null,
      "id": "71b31081",
      "metadata": {
        "id": "71b31081",
        "outputId": "3f497509-5610-4e09-d45c-63fe7f73ee13"
      },
      "outputs": [
        {
          "name": "stdout",
          "output_type": "stream",
          "text": [
            "Hello, World!\n"
          ]
        }
      ],
      "source": [
        "message = 'Hello, World!'\n",
        "name = \"Alice\"\n",
        "paragraph = '''This is a multi-line\n",
        "string using triple quotes.'''\n",
        "\n",
        "\n",
        "print(message)"
      ]
    },
    {
      "cell_type": "code",
      "execution_count": null,
      "id": "371d8dcb",
      "metadata": {
        "id": "371d8dcb",
        "outputId": "dd3c0625-445a-4836-cb97-3c0187dc37dc"
      },
      "outputs": [
        {
          "name": "stdout",
          "output_type": "stream",
          "text": [
            "And Saint Atila raised the hand grenade up on high, saying,\n",
            "'Oh, Lord, bless this thy hand grenade that with it thou mayest blow\n",
            "thy enemies to tiny bits, in thy mercy.' And the Lord did grin, and\n",
            "people did feast upon the lambs, and sloths, and carp, and anchovies,\n",
            "and orangutans, and breakfast cereals, and fruit bats, and large --\n",
            "F-strings: orangutans, breakfast cereals, fruit bats\n"
          ]
        }
      ],
      "source": [
        "# String formatting:\n",
        "first_meal = 'orangutans'\n",
        "second_meal = 'breakfast cereals'\n",
        "third_meal = 'fruit bats'\n",
        "\n",
        "print('And Saint Atila raised the hand grenade up on high, saying,\\n'\n",
        "      + '\\'Oh, Lord, bless this thy hand '\n",
        "      + 'grenade that with it thou mayest blow')\n",
        "\n",
        "print('thy enemies to tiny bits, in thy mercy.\\' '\n",
        "      'And the Lord did grin, and\\n'\n",
        "      'people did feast upon the lambs, '\n",
        "      'and sloths, and carp, and anchovies,\\n'\n",
        "      'and {0}, and {1}, and {2}, and large --'.format(first_meal, second_meal, third_meal))\n",
        "\n",
        "print(f'F-strings: {first_meal}, {second_meal}, {third_meal}')"
      ]
    },
    {
      "cell_type": "markdown",
      "id": "576bb847",
      "metadata": {
        "id": "576bb847"
      },
      "source": [
        "### Slicing\n",
        "Slicing is an operation that allows you to extract a portion of a string (or any sequence) by specifying a start and end index. The resulting sliced portion is returned as a new string.\n"
      ]
    },
    {
      "cell_type": "markdown",
      "id": "01fa158c",
      "metadata": {
        "id": "01fa158c"
      },
      "source": [
        "The syntax for slicing a string in Python is as follows:\n",
        "    \n",
        "```string[start:end:step]```\n"
      ]
    },
    {
      "cell_type": "markdown",
      "id": "33c7729e",
      "metadata": {
        "id": "33c7729e"
      },
      "source": [
        "start: The starting index (inclusive) from where the slicing begins. If not specified, it defaults to the beginning of the string.\n",
        "\n",
        "end: The ending index (exclusive) where the slicing ends. If not specified, it defaults to the end of the string.\n",
        "\n",
        "step: The step size or the increment between indices. If not specified, it defaults to 1.\n"
      ]
    },
    {
      "cell_type": "code",
      "execution_count": null,
      "id": "5078e86e",
      "metadata": {
        "id": "5078e86e",
        "outputId": "2ddbe3b7-633c-4ce2-e40e-16a1a46c1731"
      },
      "outputs": [
        {
          "name": "stdout",
          "output_type": "stream",
          "text": [
            "Hello\n",
            "World!\n",
            "Hlo\n",
            "Hl r!\n",
            "!dlroW ,olleH\n"
          ]
        }
      ],
      "source": [
        "message = \"Hello, World!\"\n",
        "\n",
        "# Slicing from index 0 to 5 (exclusive)\n",
        "substring1 = message[0:5]\n",
        "print(substring1)  # Output: Hello\n",
        "\n",
        "# Slicing from index 7 to the end of the string\n",
        "substring2 = message[7:]\n",
        "print(substring2)  # Output: World!\n",
        "\n",
        "# Slicing from the beginning to index 5 (exclusive) with a step of 2 (including that also)\n",
        "substring3 = message[:5:2]\n",
        "print(substring3)  # Output: Hlo\n",
        "\n",
        "# Slicing the entire string with a step of 3\n",
        "substring4 = message[::3]\n",
        "print(substring4)  # Output: Hl r!\n",
        "\n",
        "# Reversing the string using slicing with a step of -1\n",
        "reversed_message = message[::-1]\n",
        "print(reversed_message)  # Output: !dlroW ,olleH\n"
      ]
    },
    {
      "cell_type": "markdown",
      "id": "47756c6b",
      "metadata": {
        "id": "47756c6b"
      },
      "source": [
        "-----\n",
        "\n",
        "example_string = \"This is an example string\"\n",
        "\n",
        "\n",
        "                     \n",
        "----                     \n"
      ]
    },
    {
      "cell_type": "markdown",
      "id": "2df720e9",
      "metadata": {
        "id": "2df720e9"
      },
      "source": [
        "Try:\n",
        "print(example_string[-12:-7]\n",
        "\n"
      ]
    },
    {
      "cell_type": "markdown",
      "id": "e61b7246",
      "metadata": {
        "id": "e61b7246"
      },
      "source": [
        "# Complex data structures"
      ]
    },
    {
      "cell_type": "markdown",
      "id": "48570b91",
      "metadata": {
        "id": "48570b91"
      },
      "source": [
        "# List\n",
        "\n",
        "Lists are what you think: they store multiple kinds of data.\n",
        "    \n",
        "\n",
        "\n",
        "* A list in Python is a built-in data structure that represents an ordered collection of items.\n",
        "\n",
        "* It is mutable, which means you can modify its elements after it has been created.\n",
        "\n",
        "* Lists can contain elements of different data types such as integers, floats, strings, or even other lists.\n",
        "\n"
      ]
    },
    {
      "cell_type": "code",
      "execution_count": null,
      "id": "2712eeb5",
      "metadata": {
        "id": "2712eeb5"
      },
      "outputs": [],
      "source": [
        "# Creating a list of integers\n",
        "numbers = [1, 2, 3, 4, 5]"
      ]
    },
    {
      "cell_type": "code",
      "execution_count": null,
      "id": "6ab16f87",
      "metadata": {
        "id": "6ab16f87",
        "outputId": "ada16b36-89cf-4783-b05b-37ec4d443551"
      },
      "outputs": [
        {
          "name": "stdout",
          "output_type": "stream",
          "text": [
            "1\n",
            "3\n"
          ]
        }
      ],
      "source": [
        "# Accessing elements of a list\n",
        "print(numbers[0])  # Output: 1\n",
        "print(numbers[2])  # Output: 3\n"
      ]
    },
    {
      "cell_type": "code",
      "execution_count": null,
      "id": "33a21fb9",
      "metadata": {
        "id": "33a21fb9",
        "outputId": "5c66a1a4-8d16-4a5f-fa94-6707cc047c47"
      },
      "outputs": [
        {
          "name": "stdout",
          "output_type": "stream",
          "text": [
            "[1, 10, 3, 4, 5]\n"
          ]
        }
      ],
      "source": [
        "\n",
        "# Modifying elements of a list\n",
        "numbers[1] = 10\n",
        "print(numbers)  # Output: [1, 10, 3, 4, 5]\n"
      ]
    },
    {
      "cell_type": "markdown",
      "id": "ec499e94",
      "metadata": {
        "id": "ec499e94"
      },
      "source": [
        "See here how 2 in second place is changed to 10"
      ]
    },
    {
      "cell_type": "code",
      "execution_count": null,
      "id": "5a29d9d7",
      "metadata": {
        "id": "5a29d9d7",
        "outputId": "6366babd-6192-4fb0-9286-f0d2addebbe0"
      },
      "outputs": [
        {
          "name": "stdout",
          "output_type": "stream",
          "text": [
            "[1, 10, 3, 4, 5, 6]\n"
          ]
        }
      ],
      "source": [
        "\n",
        "# Adding elements to a list\n",
        "numbers.append(6)\n",
        "print(numbers)  # Output: [1, 10, 3, 4, 5, 6]\n"
      ]
    },
    {
      "cell_type": "code",
      "execution_count": null,
      "id": "6954a8d4",
      "metadata": {
        "id": "6954a8d4",
        "outputId": "aa9c2a56-a206-4041-98a8-0ef2e0877423"
      },
      "outputs": [
        {
          "name": "stdout",
          "output_type": "stream",
          "text": [
            "[1, 10, 4, 5, 6]\n"
          ]
        }
      ],
      "source": [
        "\n",
        "# Removing elements from a list\n",
        "numbers.remove(3)\n",
        "print(numbers)  # Output: [1, 10, 4, 5, 6]\n"
      ]
    },
    {
      "cell_type": "code",
      "execution_count": null,
      "id": "7018ed44",
      "metadata": {
        "id": "7018ed44",
        "outputId": "9ea4c891-0f48-4cb3-eb23-18ec7fa7d526"
      },
      "outputs": [
        {
          "name": "stdout",
          "output_type": "stream",
          "text": [
            "5\n"
          ]
        }
      ],
      "source": [
        "\n",
        "# Length of a list\n",
        "print(len(numbers))  # Output: 5\n"
      ]
    },
    {
      "cell_type": "code",
      "execution_count": null,
      "id": "1f64b0dc",
      "metadata": {
        "id": "1f64b0dc",
        "outputId": "ea0a9056-9c35-45c1-c64f-85fff0f7f97d"
      },
      "outputs": [
        {
          "name": "stdout",
          "output_type": "stream",
          "text": [
            "1\n",
            "10\n",
            "4\n",
            "5\n",
            "6\n"
          ]
        }
      ],
      "source": [
        "\n",
        "# Looping through a list\n",
        "for number in numbers:\n",
        "    print(number)\n"
      ]
    },
    {
      "cell_type": "markdown",
      "id": "5d5c591f",
      "metadata": {
        "id": "5d5c591f"
      },
      "source": [
        "![datastruct.gif](attachment:datastruct.gif)"
      ]
    },
    {
      "cell_type": "markdown",
      "id": "e678ae4c",
      "metadata": {
        "id": "e678ae4c"
      },
      "source": [
        "# List Compressions\n",
        "\n",
        "* List comprehension is a concise and powerful feature in Python that allows you to create new lists by performing operations on existing lists or other iterable objects.\n",
        "\n",
        "* It provides a compact and readable way to generate lists in a single line of code."
      ]
    },
    {
      "cell_type": "markdown",
      "id": "4d708576",
      "metadata": {
        "id": "4d708576"
      },
      "source": [
        "### Syntax\n",
        "\n",
        "new_list = [expression for item in iterable if condition]\n"
      ]
    },
    {
      "cell_type": "markdown",
      "id": "7be10dce",
      "metadata": {
        "id": "7be10dce"
      },
      "source": [
        "Here's a breakdown of the components:\n",
        "\n",
        "* new_list: This is the new list that will be created using list comprehension.\n",
        "    \n",
        "* expression: It represents the operation or transformation to be performed on each item in the iterable. It defines how the elements will be modified or calculated to form the new list.\n",
        "\n",
        "* item: It is the variable that takes on each item in the iterable, one at a time.\n",
        "    \n",
        "* iterable: It is an existing list, tuple, string, or any other iterable object that provides the items to be processed by the list comprehension.\n",
        "\n",
        "* condition (optional): It allows you to include an if statement to filter the elements from the iterable. Only the items that satisfy the condition will be included in the new list.\n"
      ]
    },
    {
      "cell_type": "code",
      "execution_count": null,
      "id": "4c125c54",
      "metadata": {
        "id": "4c125c54",
        "outputId": "656e4d9d-f333-4d88-b0f2-2d2a68e7d2f6"
      },
      "outputs": [
        {
          "name": "stdout",
          "output_type": "stream",
          "text": [
            "[1, 4, 9, 16, 25]\n"
          ]
        }
      ],
      "source": [
        "numbers = [1, 2, 3, 4, 5]\n",
        "squares = [num ** 2 for num in numbers]\n",
        "print(squares)"
      ]
    },
    {
      "cell_type": "markdown",
      "id": "d5b154a1",
      "metadata": {
        "id": "d5b154a1"
      },
      "source": [
        "In this example, the expression num ** 2 calculates the square of each number (num) in the numbers list. The result is a new list (squares) that contains the squares of the numbers.\n",
        "\n"
      ]
    },
    {
      "cell_type": "code",
      "execution_count": null,
      "id": "6e6e159f",
      "metadata": {
        "id": "6e6e159f"
      },
      "outputs": [],
      "source": []
    },
    {
      "cell_type": "markdown",
      "id": "98f5bb55",
      "metadata": {
        "id": "98f5bb55"
      },
      "source": [
        "# Tuples\n",
        "\n",
        "* Tuples are similar to lists but are immutable, meaning their elements cannot be modified once they are defined.\n",
        "\n",
        "* They are often used to represent a collection of related values that should not be changed.\n",
        "\n",
        "\n",
        "\n"
      ]
    },
    {
      "cell_type": "code",
      "execution_count": null,
      "id": "e0de8086",
      "metadata": {
        "id": "e0de8086"
      },
      "outputs": [],
      "source": [
        "# Creating a tuple\n",
        "my_tuple = (1, 2, 3, 4, 5)"
      ]
    },
    {
      "cell_type": "code",
      "execution_count": null,
      "id": "17ea293e",
      "metadata": {
        "id": "17ea293e",
        "outputId": "d77f5012-198a-4afe-c36a-049c14185dac"
      },
      "outputs": [
        {
          "name": "stdout",
          "output_type": "stream",
          "text": [
            "1\n",
            "3\n"
          ]
        }
      ],
      "source": [
        "\n",
        "# Accessing elements of a tuple\n",
        "print(my_tuple[0])  # Output: 1\n",
        "print(my_tuple[2])  # Output: 3\n"
      ]
    },
    {
      "cell_type": "code",
      "execution_count": null,
      "id": "b65dbdec",
      "metadata": {
        "id": "b65dbdec",
        "outputId": "fcbe797a-7c82-4f2f-8786-bb6b8bbf6a2f"
      },
      "outputs": [
        {
          "name": "stdout",
          "output_type": "stream",
          "text": [
            "1\n",
            "2\n",
            "3\n",
            "4\n",
            "5\n"
          ]
        }
      ],
      "source": [
        "\n",
        "# Iterating over a tuple\n",
        "for item in my_tuple:\n",
        "    print(item)\n",
        "\n"
      ]
    },
    {
      "cell_type": "markdown",
      "id": "cc1d6189",
      "metadata": {
        "id": "cc1d6189"
      },
      "source": [
        "# Set\n",
        "\n",
        "* Sets are unordered collections of unique elements. They automatically eliminate duplicate values.\n",
        "\n",
        "* Sets work similarly to mathematical sets.\n",
        "\n",
        "* They are useful when you want to store a collection of items and quickly check for membership or eliminate duplicates.\n",
        "\n",
        "* Note that since sets are unordered, the order of elements in a set may vary when printed."
      ]
    },
    {
      "cell_type": "code",
      "execution_count": null,
      "id": "927ce80f",
      "metadata": {
        "id": "927ce80f"
      },
      "outputs": [],
      "source": [
        "# Creating a set\n",
        "my_set = {1, 2, 3, 4, 5}\n"
      ]
    },
    {
      "cell_type": "code",
      "execution_count": null,
      "id": "539637ac",
      "metadata": {
        "id": "539637ac"
      },
      "outputs": [],
      "source": [
        "\n",
        "# Adding elements to a set\n",
        "my_set.add(6)\n",
        "my_set.add(7)\n"
      ]
    },
    {
      "cell_type": "code",
      "execution_count": null,
      "id": "9c542b6e",
      "metadata": {
        "id": "9c542b6e"
      },
      "outputs": [],
      "source": [
        "\n",
        "# Removing elements from a set\n",
        "my_set.remove(3)\n"
      ]
    },
    {
      "cell_type": "code",
      "execution_count": null,
      "id": "1d1ab1a2",
      "metadata": {
        "id": "1d1ab1a2",
        "outputId": "6f403972-901d-450e-d5b0-b505c5ac2503"
      },
      "outputs": [
        {
          "name": "stdout",
          "output_type": "stream",
          "text": [
            "True\n",
            "False\n"
          ]
        }
      ],
      "source": [
        "\n",
        "# Checking membership in a set\n",
        "print(2 in my_set)  # Output: True\n",
        "print(8 in my_set)  # Output: False\n"
      ]
    },
    {
      "cell_type": "code",
      "execution_count": null,
      "id": "88c19fcd",
      "metadata": {
        "id": "88c19fcd",
        "outputId": "bf4a3425-6b7f-4ac2-e977-f952fe99b851"
      },
      "outputs": [
        {
          "name": "stdout",
          "output_type": "stream",
          "text": [
            "1\n",
            "2\n",
            "4\n",
            "5\n",
            "6\n",
            "7\n"
          ]
        }
      ],
      "source": [
        "\n",
        "# Looping through a set\n",
        "for item in my_set:\n",
        "    print(item)\n"
      ]
    },
    {
      "cell_type": "markdown",
      "id": "3f19d2a2",
      "metadata": {
        "id": "3f19d2a2"
      },
      "source": [
        "# Dictionary\n",
        "\n",
        "* Dictionaries are - as their name suggests - key-value pairs.\n",
        "* Typical use of dictionaries is storing information of people in an organization.\n",
        "* They are useful for organizing and retrieving data based on unique keys.\n",
        "* The keys in a dictionary are unique and immutable, while the values can be of any data type.\n",
        "* Dictionaries provide efficient lookups and are commonly used for tasks that involve mapping, data organization, and retrieval.\n",
        "\n"
      ]
    },
    {
      "cell_type": "code",
      "execution_count": null,
      "id": "e0ba929a",
      "metadata": {
        "id": "e0ba929a"
      },
      "outputs": [],
      "source": [
        "# Creating a dictionary\n",
        "my_dict = {\"name\": \"John\", \"age\": 30, \"city\": \"New York\"}\n"
      ]
    },
    {
      "cell_type": "code",
      "execution_count": null,
      "id": "e990ae53",
      "metadata": {
        "id": "e990ae53",
        "outputId": "9b20693c-46ff-4937-85c2-b0e438cb012c"
      },
      "outputs": [
        {
          "name": "stdout",
          "output_type": "stream",
          "text": [
            "John\n",
            "30\n"
          ]
        }
      ],
      "source": [
        "\n",
        "# Accessing values in a dictionary\n",
        "print(my_dict[\"name\"])  # Output: John\n",
        "print(my_dict[\"age\"])   # Output: 30\n"
      ]
    },
    {
      "cell_type": "code",
      "execution_count": null,
      "id": "d24b4f69",
      "metadata": {
        "id": "d24b4f69",
        "outputId": "34408dd9-288f-4a0a-99ba-0a3608525237"
      },
      "outputs": [
        {
          "name": "stdout",
          "output_type": "stream",
          "text": [
            "{'name': 'John', 'age': 35, 'city': 'New York'}\n"
          ]
        }
      ],
      "source": [
        "\n",
        "# Modifying values in a dictionary\n",
        "my_dict[\"age\"] = 35\n",
        "print(my_dict)  # Output: {\"name\": \"John\", \"age\": 35, \"city\": \"New York\"}\n"
      ]
    },
    {
      "cell_type": "code",
      "execution_count": null,
      "id": "1253ca58",
      "metadata": {
        "id": "1253ca58",
        "outputId": "0e316843-1602-49a8-c515-7593369c3c95"
      },
      "outputs": [
        {
          "name": "stdout",
          "output_type": "stream",
          "text": [
            "{'name': 'John', 'age': 35, 'city': 'New York', 'occupation': 'Engineer'}\n"
          ]
        }
      ],
      "source": [
        "\n",
        "# Adding new key-value pairs to a dictionary\n",
        "my_dict[\"occupation\"] = \"Engineer\"\n",
        "print(my_dict)  # Output: {\"name\": \"John\", \"age\": 35, \"city\": \"New York\", \"occupation\": \"Engineer\"}\n"
      ]
    },
    {
      "cell_type": "code",
      "execution_count": null,
      "id": "c6ca0a43",
      "metadata": {
        "id": "c6ca0a43",
        "outputId": "bb282b97-aec9-4eff-f062-5d9b02e7c95c"
      },
      "outputs": [
        {
          "name": "stdout",
          "output_type": "stream",
          "text": [
            "{'name': 'John', 'age': 35, 'occupation': 'Engineer'}\n"
          ]
        }
      ],
      "source": [
        "\n",
        "# Removing key-value pairs from a dictionary\n",
        "del my_dict[\"city\"]\n",
        "print(my_dict)  # Output: {\"name\": \"John\", \"age\": 35, \"occupation\": \"Engineer\"}\n"
      ]
    },
    {
      "cell_type": "code",
      "execution_count": null,
      "id": "01e95216",
      "metadata": {
        "id": "01e95216",
        "outputId": "02b0ce84-9e03-4416-a60c-2b67bffa5aae"
      },
      "outputs": [
        {
          "name": "stdout",
          "output_type": "stream",
          "text": [
            "True\n",
            "False\n"
          ]
        }
      ],
      "source": [
        "\n",
        "# Checking if a key exists in a dictionary\n",
        "print(\"name\" in my_dict)  # Output: True\n",
        "print(\"city\" in my_dict)  # Output: False\n"
      ]
    },
    {
      "cell_type": "code",
      "execution_count": null,
      "id": "ec0fdcdc",
      "metadata": {
        "id": "ec0fdcdc",
        "outputId": "4031aad8-a93a-4f1d-a6c3-0eb8b7e4700f"
      },
      "outputs": [
        {
          "name": "stdout",
          "output_type": "stream",
          "text": [
            "name : John\n",
            "age : 35\n",
            "occupation : Engineer\n"
          ]
        }
      ],
      "source": [
        "\n",
        "# Looping through a dictionary\n",
        "for key, value in my_dict.items():\n",
        "    print(key, \":\", value)\n"
      ]
    },
    {
      "cell_type": "code",
      "execution_count": null,
      "id": "754c06c3",
      "metadata": {
        "id": "754c06c3",
        "outputId": "d57b3067-389f-4b7e-e607-96b97ff7745f"
      },
      "outputs": [
        {
          "name": "stdout",
          "output_type": "stream",
          "text": [
            "dict_keys(['name', 'age', 'occupation'])\n"
          ]
        }
      ],
      "source": [
        "print(my_dict.keys())"
      ]
    },
    {
      "cell_type": "code",
      "execution_count": null,
      "id": "aaf24ce4",
      "metadata": {
        "id": "aaf24ce4",
        "outputId": "fefedffa-b486-4495-fc34-62bc26a63709"
      },
      "outputs": [
        {
          "name": "stdout",
          "output_type": "stream",
          "text": [
            "nonn\n"
          ]
        }
      ],
      "source": [
        "if 'namee' in  my_dict:\n",
        "    print(\"Exist\")\n",
        "else:\n",
        "    print(\"nonn\")"
      ]
    },
    {
      "cell_type": "code",
      "execution_count": null,
      "id": "9f76d010",
      "metadata": {
        "id": "9f76d010",
        "outputId": "28bac4a1-8401-482f-95cc-8ecf73dd1d86"
      },
      "outputs": [
        {
          "name": "stdout",
          "output_type": "stream",
          "text": [
            "dict_values(['John', 35, 'Engineer'])\n"
          ]
        }
      ],
      "source": [
        "print(my_dict.values())"
      ]
    },
    {
      "cell_type": "code",
      "execution_count": null,
      "id": "ba04dc1c",
      "metadata": {
        "id": "ba04dc1c",
        "outputId": "576c0024-932a-417e-bb58-67b6330d67ae"
      },
      "outputs": [
        {
          "name": "stdout",
          "output_type": "stream",
          "text": [
            "John exists in the dictionary.\n"
          ]
        }
      ],
      "source": [
        "value_to_check = \"John\"  # The value you want to check for\n",
        "\n",
        "# Using a loop to check if the value exists in the dictionary\n",
        "value_exists = False\n",
        "for value in my_dict.values():\n",
        "    if value == value_to_check:\n",
        "        value_exists = True\n",
        "        break\n",
        "\n",
        "if value_exists:\n",
        "    print(f\"{value_to_check} exists in the dictionary.\")\n",
        "else:\n",
        "    print(f\"{value_to_check} does not exist in the dictionary.\")"
      ]
    },
    {
      "cell_type": "code",
      "execution_count": null,
      "id": "707f5d2e",
      "metadata": {
        "id": "707f5d2e",
        "outputId": "4e21b527-e580-48f5-8cdd-fcc08c50528f"
      },
      "outputs": [
        {
          "name": "stdout",
          "output_type": "stream",
          "text": [
            "John exists in the dictionary.\n"
          ]
        }
      ],
      "source": [
        "\n",
        "value_to_check = \"John\"  # The value you want to check for\n",
        "\n",
        "# Using the 'in' operator to check if the value exists in the dictionary\n",
        "if value_to_check in my_dict.values():\n",
        "    print(f\"{value_to_check} exists in the dictionary.\")\n",
        "else:\n",
        "    print(f\"{value_to_check} does not exist in the dictionary.\")\n"
      ]
    },
    {
      "cell_type": "markdown",
      "id": "a6c6e3aa",
      "metadata": {
        "id": "a6c6e3aa"
      },
      "source": [
        "## Advance Dictionary"
      ]
    },
    {
      "cell_type": "code",
      "execution_count": null,
      "id": "94b03450",
      "metadata": {
        "id": "94b03450",
        "outputId": "97a3d0a7-0338-4706-c4a0-6316a0d34cc7"
      },
      "outputs": [
        {
          "name": "stdout",
          "output_type": "stream",
          "text": [
            "Library Name: Central Library\n",
            "Library Address: 123 Main Street, Cityville\n",
            "\n",
            "Title: The Great Gatsby\n",
            "Author: F. Scott Fitzgerald\n",
            "Publication Year: 1925\n",
            "Genres: Fiction, Classic, Romance\n",
            "Copies Available: 3\n",
            "Location: Shelf A\n",
            "\n",
            "Title: To Kill a Mockingbird\n",
            "Author: Harper Lee\n",
            "Publication Year: 1960\n",
            "Genres: Fiction, Classic, Legal Drama\n",
            "Copies Available: 5\n",
            "Location: Shelf B\n",
            "\n",
            "Title: 1984\n",
            "Author: George Orwell\n",
            "Publication Year: 1949\n",
            "Genres: Fiction, Dystopian, Political\n",
            "Copies Available: 2\n",
            "Location: Shelf A\n",
            "\n",
            "Title: The Hobbit\n",
            "Author: J.R.R. Tolkien\n",
            "Publication Year: 1937\n",
            "Genres: Fantasy, Adventure\n",
            "Copies Available: 4\n",
            "Location: Shelf C\n"
          ]
        }
      ],
      "source": [
        "library_catalog = {\n",
        "    \"books\": [\n",
        "        {\n",
        "            \"title\": \"The Great Gatsby\",\n",
        "            \"author\": \"F. Scott Fitzgerald\",\n",
        "            \"publication_year\": 1925,\n",
        "            \"genres\": [\"Fiction\", \"Classic\", \"Romance\"],\n",
        "            \"copies_available\": 3,\n",
        "            \"location\": \"Shelf A\",\n",
        "        },\n",
        "        {\n",
        "            \"title\": \"To Kill a Mockingbird\",\n",
        "            \"author\": \"Harper Lee\",\n",
        "            \"publication_year\": 1960,\n",
        "            \"genres\": [\"Fiction\", \"Classic\", \"Legal Drama\"],\n",
        "            \"copies_available\": 5,\n",
        "            \"location\": \"Shelf B\",\n",
        "        },\n",
        "        {\n",
        "            \"title\": \"1984\",\n",
        "            \"author\": \"George Orwell\",\n",
        "            \"publication_year\": 1949,\n",
        "            \"genres\": [\"Fiction\", \"Dystopian\", \"Political\"],\n",
        "            \"copies_available\": 2,\n",
        "            \"location\": \"Shelf A\",\n",
        "        },\n",
        "        {\n",
        "            \"title\": \"The Hobbit\",\n",
        "            \"author\": \"J.R.R. Tolkien\",\n",
        "            \"publication_year\": 1937,\n",
        "            \"genres\": [\"Fantasy\", \"Adventure\"],\n",
        "            \"copies_available\": 4,\n",
        "            \"location\": \"Shelf C\",\n",
        "        },\n",
        "    ],\n",
        "    \"library_info\": {\n",
        "        \"name\": \"Central Library\",\n",
        "        \"address\": \"123 Main Street, Cityville\",\n",
        "        \"hours\": {\n",
        "            \"Monday\": \"9:00 AM - 6:00 PM\",\n",
        "            \"Tuesday\": \"9:00 AM - 6:00 PM\",\n",
        "            \"Wednesday\": \"9:00 AM - 8:00 PM\",\n",
        "            \"Thursday\": \"9:00 AM - 6:00 PM\",\n",
        "            \"Friday\": \"9:00 AM - 5:00 PM\",\n",
        "            \"Saturday\": \"10:00 AM - 4:00 PM\",\n",
        "            \"Sunday\": \"Closed\",\n",
        "        },\n",
        "    },\n",
        "}\n",
        "\n",
        "# Accessing information from the library catalog\n",
        "print(\"Library Name:\", library_catalog[\"library_info\"][\"name\"])\n",
        "print(\"Library Address:\", library_catalog[\"library_info\"][\"address\"])\n",
        "\n",
        "# Accessing information about books\n",
        "for book in library_catalog[\"books\"]:\n",
        "    print(\"\\nTitle:\", book[\"title\"])\n",
        "    print(\"Author:\", book[\"author\"])\n",
        "    print(\"Publication Year:\", book[\"publication_year\"])\n",
        "    print(\"Genres:\", \", \".join(book[\"genres\"]))\n",
        "    print(\"Copies Available:\", book[\"copies_available\"])\n",
        "    print(\"Location:\", book[\"location\"])\n"
      ]
    },
    {
      "cell_type": "code",
      "execution_count": null,
      "id": "0f5d7ab0",
      "metadata": {
        "id": "0f5d7ab0"
      },
      "outputs": [],
      "source": []
    },
    {
      "cell_type": "code",
      "execution_count": null,
      "id": "1ecc8624",
      "metadata": {
        "id": "1ecc8624"
      },
      "outputs": [],
      "source": []
    },
    {
      "cell_type": "markdown",
      "id": "b05f1063",
      "metadata": {
        "id": "b05f1063"
      },
      "source": [
        "# Extra\n",
        "\n",
        "Insert anywhere with `Loop`"
      ]
    },
    {
      "cell_type": "code",
      "execution_count": null,
      "id": "4959bb4a",
      "metadata": {
        "id": "4959bb4a",
        "outputId": "474e9212-25b3-4642-e2ff-c5b1222b3f0c"
      },
      "outputs": [
        {
          "name": "stdout",
          "output_type": "stream",
          "text": [
            "[1, 2, 3, 4, 5]\n"
          ]
        }
      ],
      "source": [
        "my_list = [1, 2, 4, 5]\n",
        "value_to_insert = 3   # Value to insret\n",
        "index_to_insert = 2  # Index where you want to insert the value\n",
        "\n",
        "# Create a new list to store the result\n",
        "new_list = []\n",
        "\n",
        "for i in range(len(my_list)):\n",
        "    if i == index_to_insert:\n",
        "        new_list.append(value_to_insert)\n",
        "    new_list.append(my_list[i])\n",
        "\n",
        "print(new_list)  # Output: [1, 2, 3, 4, 5]"
      ]
    },
    {
      "cell_type": "code",
      "execution_count": null,
      "id": "a8879b45",
      "metadata": {
        "id": "a8879b45"
      },
      "outputs": [],
      "source": []
    },
    {
      "cell_type": "markdown",
      "id": "3db14fa7",
      "metadata": {
        "id": "3db14fa7"
      },
      "source": [
        "Insert anywhere in the List with `.insert method`"
      ]
    },
    {
      "cell_type": "code",
      "execution_count": null,
      "id": "a577ce9e",
      "metadata": {
        "id": "a577ce9e",
        "outputId": "89cb6c57-cc0c-4412-816c-92bcdb6d4390"
      },
      "outputs": [
        {
          "name": "stdout",
          "output_type": "stream",
          "text": [
            "[1, 2, 9, 4, 5]\n"
          ]
        }
      ],
      "source": [
        "\n",
        "value_to_insert = 9   # Value to insret\n",
        "index_to_insert = 2  # Index where you want to insert the value\n",
        "\n",
        "my_list.insert(index_to_insert, value_to_insert)\n",
        "print(my_list)  # Output: [1, 2, 3, 4, 5]"
      ]
    },
    {
      "cell_type": "code",
      "execution_count": null,
      "id": "b0ee4ca9",
      "metadata": {
        "id": "b0ee4ca9"
      },
      "outputs": [],
      "source": []
    }
  ],
  "metadata": {
    "kernelspec": {
      "display_name": "Python 3 (ipykernel)",
      "language": "python",
      "name": "python3"
    },
    "language_info": {
      "codemirror_mode": {
        "name": "ipython",
        "version": 3
      },
      "file_extension": ".py",
      "mimetype": "text/x-python",
      "name": "python",
      "nbconvert_exporter": "python",
      "pygments_lexer": "ipython3",
      "version": "3.10.10"
    },
    "colab": {
      "provenance": [],
      "include_colab_link": true
    }
  },
  "nbformat": 4,
  "nbformat_minor": 5
}