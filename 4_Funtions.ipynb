{
  "cells": [
    {
      "cell_type": "markdown",
      "metadata": {
        "id": "view-in-github",
        "colab_type": "text"
      },
      "source": [
        "<a href=\"https://colab.research.google.com/github/NSPFD/PYTHON-PROGRAMMING-TASK-RELATED-WORK-AND-ITS-BASICS/blob/main/4_Funtions.ipynb\" target=\"_parent\"><img src=\"https://colab.research.google.com/assets/colab-badge.svg\" alt=\"Open In Colab\"/></a>"
      ]
    },
    {
      "cell_type": "markdown",
      "id": "64bfbefb",
      "metadata": {
        "id": "64bfbefb"
      },
      "source": [
        "We completed Intro, Variables, Data structure, and now lets learn the functions in Python"
      ]
    },
    {
      "cell_type": "markdown",
      "id": "51c1650e",
      "metadata": {
        "id": "51c1650e"
      },
      "source": [
        "# Functions\n",
        "\n",
        "* Functions in Python allow you to encapsulate a block of code that can be reused multiple times.\n",
        "* They improve code readability, modularity, and reusability. By defining functions, you can write organized and efficient code."
      ]
    },
    {
      "cell_type": "code",
      "execution_count": null,
      "id": "c0a66525",
      "metadata": {
        "id": "c0a66525",
        "outputId": "f699ffd8-c91d-49a4-9918-db5dd2cb15fc"
      },
      "outputs": [
        {
          "name": "stdout",
          "output_type": "stream",
          "text": [
            "Hello, world!\n"
          ]
        }
      ],
      "source": [
        "def greet():\n",
        "    print(\"Hello, world!\")\n",
        "\n",
        "greet()\n"
      ]
    },
    {
      "cell_type": "code",
      "execution_count": null,
      "id": "b2ab2066",
      "metadata": {
        "id": "b2ab2066"
      },
      "outputs": [],
      "source": [
        "def square(number):\n",
        "    \"\"\"Calculates the square of a number.\"\"\"\n",
        "    return number ** 2\n"
      ]
    },
    {
      "cell_type": "markdown",
      "id": "03d5bf46",
      "metadata": {
        "id": "03d5bf46"
      },
      "source": [
        "- In this example, we define a function called square that takes one parameter number.\n",
        "\n",
        "- The function calculates the square of the number by multiplying it by itself using the exponentiation operator (**) and returns the result."
      ]
    },
    {
      "cell_type": "markdown",
      "id": "df4b6ff1",
      "metadata": {
        "id": "df4b6ff1"
      },
      "source": [
        "To use this function, you can call it with a specific number and store the result in a variable:"
      ]
    },
    {
      "cell_type": "code",
      "execution_count": null,
      "id": "9c302955",
      "metadata": {
        "id": "9c302955",
        "outputId": "2a322ab0-aaa2-462b-8026-09c13e2a7531"
      },
      "outputs": [
        {
          "name": "stdout",
          "output_type": "stream",
          "text": [
            "25\n"
          ]
        }
      ],
      "source": [
        "result = square(5)\n",
        "print(result)  # Output: 25\n"
      ]
    },
    {
      "cell_type": "markdown",
      "id": "cd4d72fc",
      "metadata": {
        "id": "cd4d72fc"
      },
      "source": [
        "## Function Definition and Calling\n",
        "\n",
        "### Defining a Function:\n",
        "\n",
        "When defining a function in Python, you use the def keyword followed by the function name and parentheses.\n",
        "\n",
        "The function name should follow the naming conventions, and the parentheses may contain any parameters the function requires.\n",
        "\n",
        "The function block is indented and contains the code that will be executed when the function is called."
      ]
    },
    {
      "cell_type": "code",
      "execution_count": null,
      "id": "adafa31b",
      "metadata": {
        "id": "adafa31b"
      },
      "outputs": [],
      "source": [
        "def greet():\n",
        "    print(\"Hello, there!\")"
      ]
    },
    {
      "cell_type": "markdown",
      "id": "ebdba70a",
      "metadata": {
        "id": "ebdba70a"
      },
      "source": [
        "### Function Parameters and Arguments:\n",
        "\n",
        "* Parameters are placeholders defined in the function definition to receive input values.\n",
        "\n",
        "* Arguments, on the other hand, are the actual values passed to the function when calling it."
      ]
    },
    {
      "cell_type": "code",
      "execution_count": null,
      "id": "3c5d7aa1",
      "metadata": {
        "id": "3c5d7aa1",
        "outputId": "e00d2ead-a66d-4de3-92d3-e19e7e824547"
      },
      "outputs": [
        {
          "name": "stdout",
          "output_type": "stream",
          "text": [
            "Hello, Alice!\n",
            "Hello, Bob!\n"
          ]
        }
      ],
      "source": [
        "def greet(name):\n",
        "    print(\"Hello, \" + name + \"!\")\n",
        "\n",
        "greet(\"Alice\")\n",
        "greet(\"Bob\")\n"
      ]
    },
    {
      "cell_type": "markdown",
      "id": "c06469ea",
      "metadata": {
        "id": "c06469ea"
      },
      "source": [
        "The greet function has a parameter called name\n",
        "\n",
        "The function is called with \"Alice\" and \"Bob\" as arguments,"
      ]
    },
    {
      "cell_type": "markdown",
      "id": "5ed80365",
      "metadata": {
        "id": "5ed80365"
      },
      "source": [
        "### Function Return Statement\n",
        "\n",
        "* The return statement allows a function to send a value back to the caller.\n",
        "\n",
        "* It terminates the execution of the function and sends the specified value as the result of the function call."
      ]
    },
    {
      "cell_type": "code",
      "execution_count": null,
      "id": "2e0d509b",
      "metadata": {
        "id": "2e0d509b",
        "outputId": "b84d40cb-24df-4672-eef0-61ed530d1613"
      },
      "outputs": [
        {
          "name": "stdout",
          "output_type": "stream",
          "text": [
            "8\n"
          ]
        }
      ],
      "source": [
        "def add_numbers(a, b):\n",
        "    return a + b\n",
        "\n",
        "result = add_numbers(5, 3)\n",
        "print(result)  # Output: 8\n"
      ]
    },
    {
      "cell_type": "markdown",
      "id": "a7cce818",
      "metadata": {
        "id": "a7cce818"
      },
      "source": [
        "In the add_numbers function, the return statement is used to send back the sum of the two parameters a and b.\n",
        "\n",
        "When the function is called with 5 and 3 as arguments, the return value 8 is stored in the variable result and printed.\n"
      ]
    },
    {
      "cell_type": "markdown",
      "id": "86b7bd09",
      "metadata": {
        "id": "86b7bd09"
      },
      "source": [
        "### Function Scope and Variables\n",
        "\n",
        "* Understanding function scope and variables is important to avoid naming conflicts and to control the visibility and lifetime of variables within functions.\n",
        "\n",
        "* It allows you to encapsulate and separate the logic of different parts of your code.\n",
        "\n",
        "#### Local Variable\n",
        "\n",
        "* Local variables that are defined within a function. They have local scope, which means they are accessible only within the function where they are defined. Local variables are created when the function is called and destroyed when the function finishes executing."
      ]
    },
    {
      "cell_type": "code",
      "execution_count": null,
      "id": "c4a4803e",
      "metadata": {
        "id": "c4a4803e",
        "outputId": "0933de43-b855-49b2-d429-8169abe9fe45"
      },
      "outputs": [
        {
          "name": "stdout",
          "output_type": "stream",
          "text": [
            "10\n"
          ]
        }
      ],
      "source": [
        "def calculate():\n",
        "    x = 10\n",
        "    print(x)\n",
        "\n",
        "calculate()"
      ]
    },
    {
      "cell_type": "markdown",
      "id": "89832f0f",
      "metadata": {
        "id": "89832f0f"
      },
      "source": [
        "The variable x is a local variable defined within the calculate function.\n",
        "\n",
        "It is accessible only within the function.\n",
        "\n",
        "When the function is called, the value 10 is assigned to x, and it is printed within the function."
      ]
    },
    {
      "cell_type": "markdown",
      "id": "43c0216a",
      "metadata": {
        "id": "43c0216a"
      },
      "source": [
        "#### Global Variable\n",
        "\n",
        "* Global variables are variables that are defined outside of any function. They have global scope, which means they can be accessed from anywhere in the code, including within functions. Global variables are created when they are defined and exist throughout the entire program.\n"
      ]
    },
    {
      "cell_type": "code",
      "execution_count": null,
      "id": "5869d645",
      "metadata": {
        "id": "5869d645",
        "outputId": "ba0fbbd1-d4b7-4863-b208-2ff45e8f3318"
      },
      "outputs": [
        {
          "name": "stdout",
          "output_type": "stream",
          "text": [
            "10\n"
          ]
        }
      ],
      "source": [
        "y = 5\n",
        "\n",
        "def double():\n",
        "    global y\n",
        "    y = y * 2\n",
        "\n",
        "double()\n",
        "print(y)"
      ]
    },
    {
      "cell_type": "markdown",
      "id": "a5bbfbcc",
      "metadata": {
        "id": "a5bbfbcc"
      },
      "source": [
        "In this example, the variable y is a global variable defined outside of any function.\n",
        "\n",
        "The double function accesses and modifies the global variable using the global keyword.\n",
        "\n",
        "After calling the double function, the value of y is doubled, and when it is printed outside the function, the updated value 10 is displayed."
      ]
    },
    {
      "cell_type": "markdown",
      "id": "3dff9138",
      "metadata": {
        "id": "3dff9138"
      },
      "source": [
        "> Here remember,if you want to modify the value of a global variable within a function, you need to use the global keyword to indicate that the variable should be treated as a global variable, not a local variable.\n",
        "\n",
        "\n",
        "Try:\n",
        "\n",
        "```\n",
        "y = 5\n",
        "\n",
        "def double():\n",
        "    global y\n",
        "    y = 2\n",
        "    y = y * 2\n",
        "\n",
        "double()\n",
        "print(y)\n",
        "```\n",
        "\n",
        "\n",
        "Also try removing global keyword and see what it says"
      ]
    },
    {
      "cell_type": "markdown",
      "id": "8253f21e",
      "metadata": {
        "id": "8253f21e"
      },
      "source": [
        "### Variable Visibility and Lifetime\n",
        "\n",
        "- Local variables take precedence over global variables of the same name within a function.\n",
        "\n",
        "- When a local variable shares the same name as a global variable, the local variable is used within the function, and the global variable remains unchanged."
      ]
    },
    {
      "cell_type": "code",
      "execution_count": null,
      "id": "4f305dfc",
      "metadata": {
        "id": "4f305dfc",
        "outputId": "98e2deaa-8e82-42df-b566-b5c0610f0454"
      },
      "outputs": [
        {
          "name": "stdout",
          "output_type": "stream",
          "text": [
            "5\n"
          ]
        }
      ],
      "source": [
        "z = 10\n",
        "\n",
        "def multiply():\n",
        "    z = 5\n",
        "    print(z)\n",
        "\n",
        "multiply()\n",
        "\n"
      ]
    },
    {
      "cell_type": "code",
      "execution_count": null,
      "id": "619c1991",
      "metadata": {
        "id": "619c1991",
        "outputId": "e14e9c22-2118-4aed-fc53-3c878d75ebc4"
      },
      "outputs": [
        {
          "name": "stdout",
          "output_type": "stream",
          "text": [
            "5\n",
            "10\n"
          ]
        }
      ],
      "source": [
        "# Now try\n",
        "\n",
        "z = 10\n",
        "\n",
        "def multiply():\n",
        "    z = 5\n",
        "    print(z)\n",
        "\n",
        "multiply()\n",
        "print(z)"
      ]
    },
    {
      "cell_type": "markdown",
      "id": "c6922d72",
      "metadata": {
        "id": "c6922d72"
      },
      "source": [
        "In this example, the local variable z within the multiply function shadows the global variable z. When the function is called, it prints the local variable 5. However, when the global variable z is printed outside the function, its original value 10 is displayed."
      ]
    },
    {
      "cell_type": "code",
      "execution_count": null,
      "id": "65fdcf35",
      "metadata": {
        "id": "65fdcf35"
      },
      "outputs": [],
      "source": [
        "# Built In function\n",
        "\n"
      ]
    },
    {
      "cell_type": "markdown",
      "id": "88d2a016",
      "metadata": {
        "id": "88d2a016"
      },
      "source": [
        "Python provides a rich set of built-in functions that can be used to perform various operations.\n",
        "Some commonly used built-in functions include:\n",
        "\n",
        "- print(): Outputs text or variables to the console.\n",
        "- len(): Returns the length of a sequence (string, list, tuple, etc.).\n",
        "- range(): Generates a sequence of numbers.\n",
        "- input(): Reads user input from the console.\n",
        "- type(): Returns the type of an object.\n",
        "- int(), float(), str(): Converts values to integers, floats, or strings, respectively.\n",
        "- sum(), max(), min(): Performs mathematical operations on sequences.\n",
        "- abs(): Returns the absolute value of a number.\n",
        "- round(): Rounds a number to a specified number of decimals."
      ]
    },
    {
      "cell_type": "code",
      "execution_count": null,
      "id": "4dc46730",
      "metadata": {
        "id": "4dc46730",
        "outputId": "64b5ee26-8dbf-4804-c589-207c8839cdfd"
      },
      "outputs": [
        {
          "name": "stdout",
          "output_type": "stream",
          "text": [
            "31.41592653589793\n"
          ]
        }
      ],
      "source": [
        "import math\n",
        "\n",
        "radius = 5\n",
        "circumference = 2 * math.pi * radius\n",
        "\n",
        "print(circumference)\n"
      ]
    },
    {
      "cell_type": "code",
      "execution_count": null,
      "id": "34e52e05",
      "metadata": {
        "id": "34e52e05",
        "outputId": "56afbbd9-439c-4608-c0fc-a11b3abd8da8"
      },
      "outputs": [
        {
          "name": "stdout",
          "output_type": "stream",
          "text": [
            "1\n"
          ]
        }
      ],
      "source": [
        "import random\n",
        "\n",
        "random_number = random.randint(1, 10)\n",
        "print(random_number)\n"
      ]
    },
    {
      "cell_type": "markdown",
      "id": "9e9af75f",
      "metadata": {
        "id": "9e9af75f"
      },
      "source": [
        "In this example, the random module is imported to generate a random number between 1 and 10 using the randint() function.\n",
        "\n",
        "The random number is then printed to the console."
      ]
    },
    {
      "cell_type": "markdown",
      "id": "21f9bf7b",
      "metadata": {
        "id": "21f9bf7b"
      },
      "source": [
        "## Advanced Function Concepts (Optional)\n",
        "\n",
        "These advanced function concepts provide additional flexibility and power in Python programming.\n",
        "\n",
        "Lambda functions allow for concise one-line functions,\n",
        "\n",
        "higher-order functions enable the manipulation of functions as objects,\n",
        "\n",
        "and decorators offer a way to modify the behavior of functions dynamically.\n"
      ]
    },
    {
      "cell_type": "markdown",
      "id": "b457d527",
      "metadata": {
        "id": "b457d527"
      },
      "source": [
        "\n",
        "1. Lambda Functions (Anonymous Functions):\n",
        "\n",
        "* Lambda functions, also known as anonymous functions, are functions without a name.\n",
        "* They are defined using the lambda keyword and are commonly used for small, one-line functions.\n",
        "* Lambda functions can take any number of arguments but can only have a single expression."
      ]
    },
    {
      "cell_type": "code",
      "execution_count": null,
      "id": "8209f6e4",
      "metadata": {
        "id": "8209f6e4",
        "outputId": "2c3857e2-99e8-4829-84b0-37d86e23c1ba"
      },
      "outputs": [
        {
          "name": "stdout",
          "output_type": "stream",
          "text": [
            "25\n"
          ]
        }
      ],
      "source": [
        "square = lambda x: x ** 2\n",
        "\n",
        "result = square(5)\n",
        "print(result)  # Output: 25\n"
      ]
    },
    {
      "cell_type": "markdown",
      "id": "5b0ffcd3",
      "metadata": {
        "id": "5b0ffcd3"
      },
      "source": [
        "In this example, a lambda function is defined to calculate the square of a number. The lambda function takes an argument x and returns the square of x.\n",
        "\n",
        "The lambda function is then called with the argument 5, and the result is printed."
      ]
    },
    {
      "cell_type": "markdown",
      "id": "25328103",
      "metadata": {
        "id": "25328103"
      },
      "source": [
        "2. Higher-Order Functions:\n",
        "    \n",
        "* Higher-order functions are functions that can take  **other functions as arguments** or return functions as results.\n",
        "\n",
        "* They enable you to treat functions as objects and manipulate them.\n"
      ]
    },
    {
      "cell_type": "code",
      "execution_count": null,
      "id": "a021f02d",
      "metadata": {
        "id": "a021f02d",
        "outputId": "b1a40df8-77ea-47ef-e7a0-225e7a3e1196"
      },
      "outputs": [
        {
          "name": "stdout",
          "output_type": "stream",
          "text": [
            "8\n",
            "2\n"
          ]
        }
      ],
      "source": [
        "def apply_operation(operation, x, y):\n",
        "    return operation(x, y)\n",
        "\n",
        "def add(x, y):\n",
        "    return x + y\n",
        "\n",
        "def subtract(x, y):\n",
        "    return x - y\n",
        "\n",
        "result = apply_operation(add, 5, 3)\n",
        "print(result)  # Output: 8\n",
        "\n",
        "result = apply_operation(subtract, 5, 3)\n",
        "print(result)  # Output: 2\n"
      ]
    },
    {
      "cell_type": "markdown",
      "id": "34f1942f",
      "metadata": {
        "id": "34f1942f"
      },
      "source": [
        "the apply_operation function is a higher-order function that takes an operation function (add or subtract) along with two arguments.\n",
        "\n",
        "It applies the operation on the arguments and returns the result.\n",
        "\n",
        "The add and subtract functions are passed as arguments to apply_operation, and the results are printed."
      ]
    },
    {
      "cell_type": "markdown",
      "id": "ad2f8c5e",
      "metadata": {
        "id": "ad2f8c5e"
      },
      "source": [
        "3. Decorator:\n",
        "\n",
        "* Decorators allow you to modify the behavior of a function without changing its source code.\n",
        "\n",
        "* They are implemented using the @ symbol followed by the decorator function name, placed above the function definition."
      ]
    },
    {
      "cell_type": "code",
      "execution_count": null,
      "id": "f3052c75",
      "metadata": {
        "id": "f3052c75",
        "outputId": "df8ddbfc-c09e-4239-b0f7-f8e49e781813"
      },
      "outputs": [
        {
          "name": "stdout",
          "output_type": "stream",
          "text": [
            "HELLO\n"
          ]
        }
      ],
      "source": [
        "def uppercase_decorator(func):\n",
        "    def wrapper():\n",
        "        result = func()\n",
        "        return result.upper()\n",
        "    return wrapper\n",
        "\n",
        "@uppercase_decorator\n",
        "def greet():\n",
        "    return \"hello\"\n",
        "\n",
        "result = greet()\n",
        "print(result)  # Output: HELLO\n"
      ]
    },
    {
      "cell_type": "markdown",
      "id": "2b7d7730",
      "metadata": {
        "id": "2b7d7730"
      },
      "source": [
        "The uppercase_decorator is a decorator function that wraps the greet function.\n",
        "\n",
        "The wrapper function is defined inside the decorator, where the original function is called, and its result is converted to uppercase.\n",
        "\n",
        "The greet function is decorated with @uppercase_decorator, which modifies its behavior to return the uppercase version of the greeting."
      ]
    },
    {
      "cell_type": "code",
      "execution_count": null,
      "id": "5ca6dace",
      "metadata": {
        "id": "5ca6dace"
      },
      "outputs": [],
      "source": []
    }
  ],
  "metadata": {
    "kernelspec": {
      "display_name": "Python 3 (ipykernel)",
      "language": "python",
      "name": "python3"
    },
    "language_info": {
      "codemirror_mode": {
        "name": "ipython",
        "version": 3
      },
      "file_extension": ".py",
      "mimetype": "text/x-python",
      "name": "python",
      "nbconvert_exporter": "python",
      "pygments_lexer": "ipython3",
      "version": "3.10.10"
    },
    "colab": {
      "provenance": [],
      "include_colab_link": true
    }
  },
  "nbformat": 4,
  "nbformat_minor": 5
}