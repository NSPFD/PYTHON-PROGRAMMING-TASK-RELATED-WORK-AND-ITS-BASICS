{
  "nbformat": 4,
  "nbformat_minor": 0,
  "metadata": {
    "colab": {
      "provenance": [],
      "include_colab_link": true
    },
    "kernelspec": {
      "name": "python3",
      "display_name": "Python 3"
    },
    "language_info": {
      "name": "python"
    }
  },
  "cells": [
    {
      "cell_type": "markdown",
      "metadata": {
        "id": "view-in-github",
        "colab_type": "text"
      },
      "source": [
        "<a href=\"https://colab.research.google.com/github/NSPFD/PYTHON-PROGRAMMING-TASK-RELATED-WORK-AND-ITS-BASICS/blob/main/Copy_of_Task_Basic_Python.ipynb\" target=\"_parent\"><img src=\"https://colab.research.google.com/assets/colab-badge.svg\" alt=\"Open In Colab\"/></a>"
      ]
    },
    {
      "cell_type": "markdown",
      "source": [
        "# Task 1: Introduction and Variables\n",
        "\n",
        "## Write a short introduction about yourself.\n",
        "\n",
        "Create variables to store your name, age, and favorite programming language. Print these variables.\n",
        "\n",
        "Note: Replace your code where it is written `<Your Code here>`\n"
      ],
      "metadata": {
        "id": "NI70bcr3SusC"
      }
    },
    {
      "cell_type": "code",
      "source": [
        "name = \"sunil karki\"\n",
        "age = 24\n",
        "favorite_language = \"Python\"\n",
        "\n",
        "print(\"Name:\", name)\n",
        "print(\"Age:\", age)\n",
        "print(\"Favorite Programming Language:\", favorite_language)"
      ],
      "metadata": {
        "id": "BysPfuN2Wtgy",
        "outputId": "cdf9e61b-1d56-40c0-e416-f25138fb95aa",
        "colab": {
          "base_uri": "https://localhost:8080/"
        }
      },
      "execution_count": null,
      "outputs": [
        {
          "output_type": "stream",
          "name": "stdout",
          "text": [
            "Name: sunil karki\n",
            "Age: 24\n",
            "Favorite Programming Language: Python\n"
          ]
        }
      ]
    },
    {
      "cell_type": "markdown",
      "source": [
        "# Task 2: Operators\n",
        "## Create two variables a and b and assign them any integer values.\n",
        "\n",
        "Perform and print the results of the following operations: addition, subtraction, multiplication, division, and modulus."
      ],
      "metadata": {
        "id": "-dF2Nfm5UiLm"
      }
    },
    {
      "cell_type": "code",
      "source": [
        "# Create variables and assign integer\n",
        "a =7\n",
        "b = 3\n",
        "\n",
        "addition = a  + b\n",
        "subtraction=a-b\n",
        "multiplication=a*b\n",
        "division=a/b\n",
        "modulus = a % b\n",
        "division = a / b\n",
        "\n",
        "# Add the missing line to calculate addition\n",
        "addition = a + b\n",
        "\n",
        "print(\"Addition:\", addition)\n",
        "print(\"Subtraction:\", subtraction)\n",
        "print(\"Multiplication:\", multiplication)\n",
        "print(\"Division:\", division)\n",
        "print(\"Subtraction:\", subtraction)\n",
        "print(\"Modulus:\", modulus)"
      ],
      "metadata": {
        "colab": {
          "base_uri": "https://localhost:8080/"
        },
        "id": "dBfsZm0JVIRc",
        "outputId": "46588cc4-7358-4cbf-da9e-8c723d187dcb"
      },
      "execution_count": null,
      "outputs": [
        {
          "output_type": "stream",
          "name": "stdout",
          "text": [
            "Addition: 10\n",
            "Subtraction: 4\n",
            "Multiplication: 21\n",
            "Division: 2.3333333333333335\n",
            "Subtraction: 4\n",
            "Modulus: 1\n"
          ]
        }
      ]
    },
    {
      "cell_type": "markdown",
      "source": [
        "# Task 3: Data Structures\n",
        "## Create a list of your five favorite movies.\n",
        "Print the first and last movie from the list.\n",
        "Add another movie to the list and print the updated list"
      ],
      "metadata": {
        "id": "uLABe0uzWiJ4"
      }
    },
    {
      "cell_type": "code",
      "source": [
        "movie = [\"hurry\", \"love\", \"heaven\", \"ghost\"] # Add quotes around the movie titles to make them strings.\n",
        "print(movie[0])\n",
        "print(movie[-1])\n",
        "movie.append(\"love\")\n",
        "print(movie)"
      ],
      "metadata": {
        "colab": {
          "base_uri": "https://localhost:8080/"
        },
        "id": "aWcF4rceWlSu",
        "outputId": "ed16bef8-e6ca-41a5-e8da-c3d6b326c50c"
      },
      "execution_count": null,
      "outputs": [
        {
          "output_type": "stream",
          "name": "stdout",
          "text": [
            "hurry\n",
            "ghost\n",
            "['hurry', 'love', 'heaven', 'ghost', 'love']\n"
          ]
        }
      ]
    },
    {
      "cell_type": "markdown",
      "source": [
        "## Now, Access the 2th iterm from list."
      ],
      "metadata": {
        "id": "95AgOaivW1S1"
      }
    },
    {
      "cell_type": "code",
      "source": [
        "print (movie[1])"
      ],
      "metadata": {
        "id": "5mXqnU3sW3Mo",
        "outputId": "08e4470f-e1ca-47f4-a894-f506b89cda5d",
        "colab": {
          "base_uri": "https://localhost:8080/"
        }
      },
      "execution_count": null,
      "outputs": [
        {
          "output_type": "stream",
          "name": "stdout",
          "text": [
            "love\n"
          ]
        }
      ]
    },
    {
      "cell_type": "markdown",
      "source": [
        "# Add next favorite movie in the list\n",
        "# Then remove the least favorite among all in the list."
      ],
      "metadata": {
        "id": "lRsTdR-yXlfb"
      }
    },
    {
      "cell_type": "code",
      "source": [
        "movie.append(\"fear\")\n",
        "print(movie)"
      ],
      "metadata": {
        "id": "nPi17vYpXlys",
        "outputId": "5aecf750-7953-4eb2-f665-66b963d2b6b0",
        "colab": {
          "base_uri": "https://localhost:8080/"
        }
      },
      "execution_count": null,
      "outputs": [
        {
          "output_type": "stream",
          "name": "stdout",
          "text": [
            "['hurry', 'love', 'heaven', 'ghost', 'love', 'fear']\n"
          ]
        }
      ]
    },
    {
      "cell_type": "code",
      "source": [
        "movie.remove(\"hurry\")\n",
        "print(movie)"
      ],
      "metadata": {
        "id": "kLOCZFkOvyzt",
        "outputId": "33262f8f-d4fc-4ef0-b9a4-161c698006ec",
        "colab": {
          "base_uri": "https://localhost:8080/"
        }
      },
      "execution_count": null,
      "outputs": [
        {
          "output_type": "stream",
          "name": "stdout",
          "text": [
            "['love', 'heaven', 'ghost', 'love', 'fear']\n"
          ]
        }
      ]
    },
    {
      "cell_type": "markdown",
      "source": [
        "# Bonus - Try to use For Loop and see how does it works"
      ],
      "metadata": {
        "id": "FZjv3_a2X4_5"
      }
    },
    {
      "cell_type": "code",
      "source": [
        "for i in movie:\n",
        "    print(i)"
      ],
      "metadata": {
        "id": "DIs9DjatYFPT",
        "outputId": "3ab836b3-9455-452a-c900-8af4b616388e",
        "colab": {
          "base_uri": "https://localhost:8080/"
        }
      },
      "execution_count": null,
      "outputs": [
        {
          "output_type": "stream",
          "name": "stdout",
          "text": [
            "love\n",
            "heaven\n",
            "ghost\n",
            "love\n",
            "fear\n"
          ]
        }
      ]
    },
    {
      "cell_type": "markdown",
      "source": [],
      "metadata": {
        "id": "6Vgvs-LjwAh-"
      }
    },
    {
      "cell_type": "code",
      "source": [],
      "metadata": {
        "id": "OQWPeS_OQyRw"
      },
      "execution_count": null,
      "outputs": []
    }
  ]
}