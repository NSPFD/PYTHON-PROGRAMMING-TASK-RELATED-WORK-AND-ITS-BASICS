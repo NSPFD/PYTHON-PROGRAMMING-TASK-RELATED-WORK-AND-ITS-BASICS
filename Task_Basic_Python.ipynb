{
  "nbformat": 4,
  "nbformat_minor": 0,
  "metadata": {
    "colab": {
      "provenance": [],
      "include_colab_link": true
    },
    "kernelspec": {
      "name": "python3",
      "display_name": "Python 3"
    },
    "language_info": {
      "name": "python"
    }
  },
  "cells": [
    {
      "cell_type": "markdown",
      "metadata": {
        "id": "view-in-github",
        "colab_type": "text"
      },
      "source": [
        "<a href=\"https://colab.research.google.com/github/NSPFD/PYTHON-PROGRAMMING-TASK-RELATED-WORK-AND-ITS-BASICS/blob/main/Task_Basic_Python.ipynb\" target=\"_parent\"><img src=\"https://colab.research.google.com/assets/colab-badge.svg\" alt=\"Open In Colab\"/></a>"
      ]
    },
    {
      "cell_type": "markdown",
      "source": [
        "# Task 1: Introduction and Variables\n",
        "\n",
        "## Write a short introduction about yourself.\n",
        "\n",
        "Create variables to store your name, age, and favorite programming language. Print these variables.\n",
        "\n",
        "Note: Replace your code where it is written `<Your Code here>`\n"
      ],
      "metadata": {
        "id": "NI70bcr3SusC"
      }
    },
    {
      "cell_type": "code",
      "source": [
        "name = <Your Code here>\n",
        "age = <Your Code here>\n",
        "<Your Code here> = \"Python\"\n",
        "\n",
        "print(\"Name:\", name)\n",
        "print(\"Age:\", age)\n",
        "print(\"Favorite Programming Language:\", favorite_language)"
      ],
      "metadata": {
        "id": "BysPfuN2Wtgy",
        "outputId": "860837f6-f1a9-45bb-bdd1-4ee5ac72b168",
        "colab": {
          "base_uri": "https://localhost:8080/"
        }
      },
      "execution_count": null,
      "outputs": [
        {
          "output_type": "stream",
          "name": "stdout",
          "text": [
            "5\n"
          ]
        }
      ]
    },
    {
      "cell_type": "markdown",
      "source": [
        "# Task 2: Operators\n",
        "## Create two variables a and b and assign them any integer values.\n",
        "\n",
        "Perform and print the results of the following operations: addition, subtraction, multiplication, division, and modulus."
      ],
      "metadata": {
        "id": "-dF2Nfm5UiLm"
      }
    },
    {
      "cell_type": "code",
      "source": [
        "# Create variables and assign integer\n",
        "a =\n",
        "b = 3\n",
        "\n",
        "addition = a  + b\n",
        "<Your Code here>\n",
        "<Your Code here>\n",
        "<Your Code here>\n",
        "<Your Code here>\n",
        "\n",
        "print(\"Addition:\", <Your Code here>)\n",
        "print(\"Subtraction:\", subtraction)\n",
        "print(\"Multiplication:\", multiplication)\n",
        "print(\"Division:\", division)\n",
        "print(<Your Code here>)\n"
      ],
      "metadata": {
        "colab": {
          "base_uri": "https://localhost:8080/",
          "height": 108
        },
        "id": "dBfsZm0JVIRc",
        "outputId": "c1a8a35e-c294-41f7-e3e6-cfc1ab8bbfd0"
      },
      "execution_count": null,
      "outputs": [
        {
          "output_type": "error",
          "ename": "SyntaxError",
          "evalue": "invalid syntax (<ipython-input-2-60547caad492>, line 6)",
          "traceback": [
            "\u001b[0;36m  File \u001b[0;32m\"<ipython-input-2-60547caad492>\"\u001b[0;36m, line \u001b[0;32m6\u001b[0m\n\u001b[0;31m    <Your Code here>\u001b[0m\n\u001b[0m    ^\u001b[0m\n\u001b[0;31mSyntaxError\u001b[0m\u001b[0;31m:\u001b[0m invalid syntax\n"
          ]
        }
      ]
    },
    {
      "cell_type": "markdown",
      "source": [
        "# Task 3: Data Structures\n",
        "## Create a list of your five favorite movies.\n",
        "Print the first and last movie from the list.\n",
        "Add another movie to the list and print the updated list"
      ],
      "metadata": {
        "id": "uLABe0uzWiJ4"
      }
    },
    {
      "cell_type": "code",
      "source": [
        "<Your Code here>"
      ],
      "metadata": {
        "colab": {
          "base_uri": "https://localhost:8080/",
          "height": 108
        },
        "id": "aWcF4rceWlSu",
        "outputId": "2a32c207-1883-4025-f911-81969ae94cc3"
      },
      "execution_count": null,
      "outputs": [
        {
          "output_type": "error",
          "ename": "SyntaxError",
          "evalue": "invalid syntax (<ipython-input-3-571b08763c6e>, line 1)",
          "traceback": [
            "\u001b[0;36m  File \u001b[0;32m\"<ipython-input-3-571b08763c6e>\"\u001b[0;36m, line \u001b[0;32m1\u001b[0m\n\u001b[0;31m    <Your Code here>\u001b[0m\n\u001b[0m    ^\u001b[0m\n\u001b[0;31mSyntaxError\u001b[0m\u001b[0;31m:\u001b[0m invalid syntax\n"
          ]
        }
      ]
    },
    {
      "cell_type": "markdown",
      "source": [
        "## Now, Access the 2th iterm from list."
      ],
      "metadata": {
        "id": "95AgOaivW1S1"
      }
    },
    {
      "cell_type": "code",
      "source": [
        "<Your Code here>"
      ],
      "metadata": {
        "id": "5mXqnU3sW3Mo"
      },
      "execution_count": null,
      "outputs": []
    },
    {
      "cell_type": "markdown",
      "source": [
        "# Add next favorite movie in the list\n",
        "# Then remove the least favorite among all in the list."
      ],
      "metadata": {
        "id": "lRsTdR-yXlfb"
      }
    },
    {
      "cell_type": "code",
      "source": [
        "<Your Code here>"
      ],
      "metadata": {
        "id": "nPi17vYpXlys"
      },
      "execution_count": null,
      "outputs": []
    },
    {
      "cell_type": "markdown",
      "source": [
        "# Bonus - Try to use For Loop and see how does it works"
      ],
      "metadata": {
        "id": "FZjv3_a2X4_5"
      }
    },
    {
      "cell_type": "code",
      "source": [
        "<Your Code here>"
      ],
      "metadata": {
        "id": "DIs9DjatYFPT"
      },
      "execution_count": null,
      "outputs": []
    }
  ]
}