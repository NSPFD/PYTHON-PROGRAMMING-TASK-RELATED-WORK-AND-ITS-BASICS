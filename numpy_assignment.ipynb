{
  "cells": [
    {
      "cell_type": "markdown",
      "metadata": {
        "id": "view-in-github",
        "colab_type": "text"
      },
      "source": [
        "<a href=\"https://colab.research.google.com/github/NSPFD/PYTHON-PROGRAMMING-TASK-RELATED-WORK-AND-ITS-BASICS/blob/main/numpy_assignment.ipynb\" target=\"_parent\"><img src=\"https://colab.research.google.com/assets/colab-badge.svg\" alt=\"Open In Colab\"/></a>"
      ]
    },
    {
      "cell_type": "markdown",
      "metadata": {
        "id": "2mCE2DOa3l_W"
      },
      "source": [
        "# Assignment 1: Numpy - Temperature Data Analysis\n",
        "\n",
        "In this assignment, you will analyze temperature data for Kathmandu city over two weeks. Follow the tasks below to complete the assignment."
      ]
    },
    {
      "cell_type": "markdown",
      "metadata": {
        "id": "7cNOfTvB3l_a"
      },
      "source": [
        "### Task 1: Calculate the average temperature for each week\n",
        "Use the provided data to calculate the average temperature for Week 1 and Week 2."
      ]
    },
    {
      "cell_type": "code",
      "execution_count": 1,
      "metadata": {
        "colab": {
          "base_uri": "https://localhost:8080/"
        },
        "id": "etd80eYs3l_b",
        "outputId": "6861eb85-2758-4676-dedf-6ce579bb8dbe"
      },
      "outputs": [
        {
          "output_type": "stream",
          "name": "stdout",
          "text": [
            "Average temperature for Week 1: 18.37142857142857\n",
            "Average temperature for Week 2: 23.67142857142857\n"
          ]
        }
      ],
      "source": [
        "import numpy as np\n",
        "\n",
        "week1_temp = np.array([15.5, 16.8, 18.1, 17.3, 19.2, 20.5, 21.2])\n",
        "week2_temp = np.array([22.1, 23.4, 22.8, 24.0, 23.5, 24.8, 25.1])\n",
        "\n",
        "# Calculate the average temperature for each week\n",
        "# Calculate the average temperature for each week\n",
        "avg_week1 = np.mean(week1_temp)\n",
        "avg_week2 = np.mean(week2_temp)\n",
        "\n",
        "print(\"Average temperature for Week 1:\", avg_week1)\n",
        "print(\"Average temperature for Week 2:\", avg_week2)"
      ]
    },
    {
      "cell_type": "markdown",
      "metadata": {
        "id": "f7eZINmU3l_d"
      },
      "source": [
        "### Task 2: Find the day with the highest temperature in each week\n",
        "Use Numpy functions to determine which day had the highest temperature in each week."
      ]
    },
    {
      "cell_type": "code",
      "execution_count": 2,
      "metadata": {
        "colab": {
          "base_uri": "https://localhost:8080/"
        },
        "id": "BS7EhBoI3l_d",
        "outputId": "02ce7113-352a-416d-fa15-2a43b43ec4a2"
      },
      "outputs": [
        {
          "output_type": "stream",
          "name": "stdout",
          "text": [
            "Day with highest temperature in Week 1: Sunday\n",
            "Day with highest temperature in Week 2: Sunday\n"
          ]
        }
      ],
      "source": [
        "# Find the day with the highest temperature in each week\n",
        "import numpy as np\n",
        "\n",
        "week1_temp = np.array([15.5, 16.8, 18.1, 17.3, 19.2, 20.5, 21.2])\n",
        "week2_temp = np.array([22.1, 23.4, 22.8, 24.0, 23.5, 24.8, 25.1])\n",
        "\n",
        "# Find the index of the day with the highest temperature for each week\n",
        "highest_temp_day_week1 = np.argmax(week1_temp)\n",
        "highest_temp_day_week2 = np.argmax(week2_temp)\n",
        "\n",
        "# Assuming Monday is the first day, calculate the day of the week\n",
        "days_of_week = [\"Monday\", \"Tuesday\", \"Wednesday\", \"Thursday\", \"Friday\", \"Saturday\", \"Sunday\"]\n",
        "\n",
        "print(\"Day with highest temperature in Week 1:\", days_of_week[highest_temp_day_week1])\n",
        "print(\"Day with highest temperature in Week 2:\", days_of_week[highest_temp_day_week2])"
      ]
    },
    {
      "cell_type": "markdown",
      "metadata": {
        "id": "yWt9RwvU3l_d"
      },
      "source": [
        "### Task 3: Calculate the temperature difference between the two weeks for each day\n",
        "Find the difference in temperature between the same day in Week 1 and Week 2."
      ]
    },
    {
      "cell_type": "code",
      "execution_count": 3,
      "metadata": {
        "colab": {
          "base_uri": "https://localhost:8080/"
        },
        "id": "tYSL7Ls63l_e",
        "outputId": "ef1abc86-50c8-4e57-9c06-1462ffac3987"
      },
      "outputs": [
        {
          "output_type": "stream",
          "name": "stdout",
          "text": [
            "Temperature difference between Week 2 and Week 1 for each day:\n",
            "[6.6 6.6 4.7 6.7 4.3 4.3 3.9]\n"
          ]
        }
      ],
      "source": [
        "# Calculate the temperature difference between corresponding days of Week 1 and Week 2\n",
        "import numpy as np\n",
        "\n",
        "week1_temp = np.array([15.5, 16.8, 18.1, 17.3, 19.2, 20.5, 21.2])\n",
        "week2_temp = np.array([22.1, 23.4, 22.8, 24.0, 23.5, 24.8, 25.1])\n",
        "\n",
        "# Calculate the temperature difference between the two weeks for each day\n",
        "temp_diff = week2_temp - week1_temp\n",
        "\n",
        "print(\"Temperature difference between Week 2 and Week 1 for each day:\")\n",
        "print(temp_diff)"
      ]
    },
    {
      "cell_type": "markdown",
      "metadata": {
        "id": "BTYe6Bl-3l_e"
      },
      "source": [
        "### Task 4: Reshape the temperature data to represent 2 weeks by 7 days\n",
        "Reshape the temperature data so that each row represents a week, and each column represents a day."
      ]
    },
    {
      "cell_type": "code",
      "execution_count": 4,
      "metadata": {
        "colab": {
          "base_uri": "https://localhost:8080/"
        },
        "id": "J4DEjwz93l_e",
        "outputId": "b563e5dc-de5d-4cbc-9924-f3e0e5de36b5"
      },
      "outputs": [
        {
          "output_type": "stream",
          "name": "stdout",
          "text": [
            "[[15.5 16.8 18.1 17.3 19.2 20.5 21.2]\n",
            " [22.1 23.4 22.8 24.  23.5 24.8 25.1]]\n"
          ]
        }
      ],
      "source": [
        "# Reshape the temperature data to 2x7\n",
        "import numpy as np\n",
        "\n",
        "week1_temp = np.array([15.5, 16.8, 18.1, 17.3, 19.2, 20.5, 21.2])\n",
        "week2_temp = np.array([22.1, 23.4, 22.8, 24.0, 23.5, 24.8, 25.1])\n",
        "\n",
        "# Combine the two weeks into a single array\n",
        "all_temps = np.array([week1_temp, week2_temp])\n",
        "\n",
        "# Reshape the array to have 2 rows (weeks) and 7 columns (days)\n",
        "reshaped_temps = all_temps.reshape(2, 7)\n",
        "\n",
        "print(reshaped_temps)"
      ]
    },
    {
      "cell_type": "markdown",
      "metadata": {
        "id": "wPlYYN7i3l_f"
      },
      "source": [
        "### Task 5: Display the reshaped data in a table format\n",
        "Create a table that shows the day of the week and temperatures from both weeks."
      ]
    },
    {
      "cell_type": "code",
      "execution_count": 5,
      "metadata": {
        "colab": {
          "base_uri": "https://localhost:8080/"
        },
        "id": "pxyXnujc3l_f",
        "outputId": "c04c32d5-e96a-4985-eb45-bac29c70e565"
      },
      "outputs": [
        {
          "output_type": "stream",
          "name": "stdout",
          "text": [
            "    Day  Temperature\n",
            "0   Mon         15.5\n",
            "1   Tue         16.8\n",
            "2   Wed         18.1\n",
            "3   Thu         17.3\n",
            "4   Fri         19.2\n",
            "5   Sat         20.5\n",
            "6   Sun         21.2\n",
            "7   Mon         22.1\n",
            "8   Tue         23.4\n",
            "9   Wed         22.8\n",
            "10  Thu         24.0\n",
            "11  Fri         23.5\n",
            "12  Sat         24.8\n",
            "13  Sun         25.1\n"
          ]
        }
      ],
      "source": [
        "# Display the reshaped data in a table format\n",
        "import numpy as np\n",
        "import pandas as pd\n",
        "\n",
        "week1_temp = np.array([15.5, 16.8, 18.1, 17.3, 19.2, 20.5, 21.2])\n",
        "week2_temp = np.array([22.1, 23.4, 22.8, 24.0, 23.5, 24.8, 25.1])\n",
        "\n",
        "# Combine the data into a single array\n",
        "combined_temp = np.concatenate([week1_temp, week2_temp])\n",
        "\n",
        "# Create a list of days for both weeks\n",
        "days = ['Mon', 'Tue', 'Wed', 'Thu', 'Fri', 'Sat', 'Sun'] * 2\n",
        "\n",
        "# Create a DataFrame for better visualization\n",
        "data = {'Day': days, 'Temperature': combined_temp}\n",
        "df = pd.DataFrame(data)\n",
        "\n",
        "# Display the DataFrame as a table\n",
        "print(df)"
      ]
    }
  ],
  "metadata": {
    "kernelspec": {
      "display_name": "Python 3",
      "language": "python",
      "name": "python3"
    },
    "language_info": {
      "codemirror_mode": {
        "name": "ipython",
        "version": 3
      },
      "file_extension": ".py",
      "mimetype": "text/x-python",
      "name": "python",
      "nbconvert_exporter": "python",
      "version": "3.7.10"
    },
    "colab": {
      "provenance": [],
      "include_colab_link": true
    }
  },
  "nbformat": 4,
  "nbformat_minor": 0
}