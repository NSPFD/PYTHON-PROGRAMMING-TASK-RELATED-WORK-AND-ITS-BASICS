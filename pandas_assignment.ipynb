{
  "cells": [
    {
      "cell_type": "markdown",
      "metadata": {
        "id": "view-in-github",
        "colab_type": "text"
      },
      "source": [
        "<a href=\"https://colab.research.google.com/github/NSPFD/PYTHON-PROGRAMMING-TASK-RELATED-WORK-AND-ITS-BASICS/blob/main/pandas_assignment.ipynb\" target=\"_parent\"><img src=\"https://colab.research.google.com/assets/colab-badge.svg\" alt=\"Open In Colab\"/></a>"
      ]
    },
    {
      "cell_type": "markdown",
      "metadata": {
        "id": "bybSdEJV7D5C"
      },
      "source": [
        "# Assignment 2: Pandas - Traffic Data Analysis\n",
        "\n",
        "In this assignment, you will analyze traffic data collected at two intersections in Kathmandu over three days. Follow the tasks below to complete the assignment."
      ]
    },
    {
      "cell_type": "markdown",
      "metadata": {
        "id": "Vg14d4v17D5G"
      },
      "source": [
        "### Task 1: Create a Pandas DataFrame using the given data\n",
        "You are provided with the following data for traffic counts at two intersections over three days:\n",
        "\n",
        "```python\n",
        "data = {\n",
        "    \"Day\": [\"Monday\", \"Tuesday\", \"Wednesday\"],\n",
        "    \"Intersection 1\": [3400, 4100, 3900],\n",
        "    \"Intersection 2\": [5200, 5800, 5400]\n",
        "}\n",
        "```\n",
        "\n",
        "1. Use this data to create a Pandas DataFrame.\n",
        "2. Print the DataFrame to confirm that it has been created correctly."
      ]
    },
    {
      "cell_type": "code",
      "execution_count": 1,
      "metadata": {
        "colab": {
          "base_uri": "https://localhost:8080/"
        },
        "id": "4_4pMC6L7D5I",
        "outputId": "ef38db7c-ae0f-40eb-f6f6-34c2be1bcaea"
      },
      "outputs": [
        {
          "output_type": "stream",
          "name": "stdout",
          "text": [
            "         Day  Intersection 1  Intersection 2\n",
            "0     Monday            3400            5200\n",
            "1    Tuesday            4100            5800\n",
            "2  Wednesday            3900            5400\n"
          ]
        }
      ],
      "source": [
        "import pandas as pd\n",
        "\n",
        "data = {\n",
        "    \"Day\": [\"Monday\", \"Tuesday\", \"Wednesday\"],\n",
        "    \"Intersection 1\": [3400, 4100, 3900],\n",
        "    \"Intersection 2\": [5200, 5800, 5400]\n",
        "}\n",
        "\n",
        "# Create the DataFrame\n",
        "\n",
        "\n",
        "df = pd.DataFrame(data)\n",
        "print(df)"
      ]
    },
    {
      "cell_type": "markdown",
      "metadata": {
        "id": "WSq5IaQC7D5J"
      },
      "source": [
        "### Task 2: Select and print the traffic data for Intersection 1 on Tuesday\n",
        "1. Use the `.loc[]` method to select the traffic data for Intersection 1 on Tuesday.\n",
        "2. Print the result."
      ]
    },
    {
      "cell_type": "code",
      "execution_count": 2,
      "metadata": {
        "colab": {
          "base_uri": "https://localhost:8080/"
        },
        "id": "MTz6j0w17D5L",
        "outputId": "155ed9c2-81a7-401f-ee04-5b6616d9f74d"
      },
      "outputs": [
        {
          "output_type": "stream",
          "name": "stdout",
          "text": [
            "1    4100\n",
            "Name: Intersection 1, dtype: int64\n"
          ]
        }
      ],
      "source": [
        "# Select and print the traffic data for Intersection 1 on Tuesday\n",
        "traffic_tuesday_intersection1 = df.loc[df['Day'] == 'Tuesday', 'Intersection 1']\n",
        "print(traffic_tuesday_intersection1)"
      ]
    },
    {
      "cell_type": "markdown",
      "metadata": {
        "id": "sGxPCz_l7D5L"
      },
      "source": [
        "### Task 3: Add a new column to the DataFrame representing the total traffic for each day\n",
        "1. Add a new column named `Total Traffic` to the DataFrame.\n",
        "2. The `Total Traffic` column should be the sum of the traffic at Intersection 1 and Intersection 2 for each day.\n",
        "3. Print the updated DataFrame."
      ]
    },
    {
      "cell_type": "code",
      "execution_count": 3,
      "metadata": {
        "colab": {
          "base_uri": "https://localhost:8080/"
        },
        "id": "Swn3RveV7D5L",
        "outputId": "431dda8f-5f22-407c-fc84-60e370b3d1ed"
      },
      "outputs": [
        {
          "output_type": "stream",
          "name": "stdout",
          "text": [
            "         Day  Intersection 1  Intersection 2  Total Traffic\n",
            "0     Monday            3400            5200           8600\n",
            "1    Tuesday            4100            5800           9900\n",
            "2  Wednesday            3900            5400           9300\n"
          ]
        }
      ],
      "source": [
        "# Add a new column for total traffic\n",
        "df['Total Traffic'] = df['Intersection 1'] + df['Intersection 2']\n",
        "print(df)"
      ]
    },
    {
      "cell_type": "markdown",
      "metadata": {
        "id": "oNo-mSdM7D5M"
      },
      "source": [
        "### Task 4: Sort the DataFrame by total traffic in descending order\n",
        "1. Use the `.sort_values()` method to sort the DataFrame by the `Total Traffic` column in descending order.\n",
        "2. Print the sorted DataFrame."
      ]
    },
    {
      "cell_type": "code",
      "execution_count": 8,
      "metadata": {
        "colab": {
          "base_uri": "https://localhost:8080/"
        },
        "id": "6CxmQ4XY7D5M",
        "outputId": "d085dfcd-a761-4bff-e48b-1ecdff46b658"
      },
      "outputs": [
        {
          "output_type": "stream",
          "name": "stdout",
          "text": [
            "         Day  Intersection 1  Intersection 2  Total Traffic\n",
            "1    Tuesday            4100            5800           9900\n",
            "2  Wednesday            3900            5400           9300\n",
            "0     Monday            3400            5200           8600\n"
          ]
        }
      ],
      "source": [
        "# Sort the DataFrame by total traffic in descending order\n",
        "import pandas as pd\n",
        "\n",
        "# Create the DataFrame\n",
        "data = {\n",
        "    \"Day\": [\"Monday\", \"Tuesday\", \"Wednesday\"],\n",
        "    \"Intersection 1\": [3400, 4100, 3900],\n",
        "    \"Intersection 2\": [5200, 5800, 5400]\n",
        "}\n",
        "df = pd.DataFrame(data)\n",
        "\n",
        "# Calculate the total traffic for each day and add it as a new column\n",
        "df[\"Total Traffic\"] = df[\"Intersection 1\"] + df[\"Intersection 2\"]\n",
        "\n",
        "# Sort the DataFrame by the Total Traffic column in descending order\n",
        "df_sorted = df.sort_values(by=\"Total Traffic\", ascending=False)\n",
        "\n",
        "# Print the sorted DataFrame\n",
        "print(df_sorted)\n"
      ]
    },
    {
      "cell_type": "markdown",
      "metadata": {
        "id": "hkZfuRkl7D5N"
      },
      "source": [
        "### Task 5: Save the DataFrame to a CSV file\n",
        "1. Save the sorted DataFrame to a CSV file named `traffic_analysis.csv` using the `.to_csv()` method.\n",
        "2. Ensure the index is not included in the CSV file.\n",
        "3. Check the contents of the CSV file by reading it back into a DataFrame and printing it."
      ]
    },
    {
      "cell_type": "code",
      "execution_count": 9,
      "metadata": {
        "colab": {
          "base_uri": "https://localhost:8080/"
        },
        "id": "eYpbY5U07D5N",
        "outputId": "ba72243e-b82d-4b70-ee72-8f95c6024d4a"
      },
      "outputs": [
        {
          "output_type": "stream",
          "name": "stdout",
          "text": [
            "         Day  Intersection 1  Intersection 2  Total Traffic\n",
            "0    Tuesday            4100            5800           9900\n",
            "1  Wednesday            3900            5400           9300\n",
            "2     Monday            3400            5200           8600\n"
          ]
        }
      ],
      "source": [
        "# Save the DataFrame to a CSV file\n",
        "import pandas as pd\n",
        "\n",
        "# Create the DataFrame\n",
        "data = {\n",
        "    \"Day\": [\"Monday\", \"Tuesday\", \"Wednesday\"],\n",
        "    \"Intersection 1\": [3400, 4100, 3900],\n",
        "    \"Intersection 2\": [5200, 5800, 5400]\n",
        "}\n",
        "df = pd.DataFrame(data)\n",
        "\n",
        "# Calculate the total traffic for each day and add it as a new column\n",
        "df[\"Total Traffic\"] = df[\"Intersection 1\"] + df[\"Intersection 2\"]\n",
        "\n",
        "# Sort the DataFrame by the Total Traffic column in descending order\n",
        "df_sorted = df.sort_values(by=\"Total Traffic\", ascending=False)\n",
        "\n",
        "# Save the sorted DataFrame to a CSV file without the index\n",
        "df_sorted.to_csv(\"traffic_analysis.csv\", index=False)\n",
        "\n",
        "# Read the CSV file back into a DataFrame and print it to check the contents\n",
        "df_loaded = pd.read_csv(\"traffic_analysis.csv\")\n",
        "print(df_loaded)\n"
      ]
    }
  ],
  "metadata": {
    "kernelspec": {
      "display_name": "Python 3",
      "language": "python",
      "name": "python3"
    },
    "language_info": {
      "codemirror_mode": {
        "name": "ipython",
        "version": 3
      },
      "file_extension": ".py",
      "mimetype": "text/x-python",
      "name": "python",
      "nbconvert_exporter": "python",
      "version": "3.7.10"
    },
    "colab": {
      "provenance": [],
      "include_colab_link": true
    }
  },
  "nbformat": 4,
  "nbformat_minor": 0
}